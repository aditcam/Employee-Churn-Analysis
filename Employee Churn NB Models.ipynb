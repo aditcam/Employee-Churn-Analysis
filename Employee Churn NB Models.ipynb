{
 "cells": [
  {
   "cell_type": "markdown",
   "id": "0b6d31ec",
   "metadata": {},
   "source": [
    "## Imports"
   ]
  },
  {
   "cell_type": "code",
   "execution_count": 55,
   "id": "606028eb",
   "metadata": {},
   "outputs": [],
   "source": [
    "import pandas as pd\n",
    "import numpy as np\n",
    "import warnings\n",
    "warnings.filterwarnings('ignore')\n",
    "from datatile.summary.df import DataFrameSummary\n",
    "pd.set_option('display.max_columns', None)\n",
    "pd.set_option('display.max_rows', None)"
   ]
  },
  {
   "cell_type": "code",
   "execution_count": 56,
   "id": "38b32e36",
   "metadata": {},
   "outputs": [],
   "source": [
    "import seaborn as sns\n",
    "from matplotlib import pyplot\n",
    "import matplotlib.pyplot as plt\n",
    "import matplotlib.pylab as pylab\n",
    "import matplotlib\n",
    "from sklearn.metrics import roc_curve, roc_auc_score"
   ]
  },
  {
   "cell_type": "markdown",
   "id": "f336dd72",
   "metadata": {},
   "source": [
    "This is a fictional data set created by IBM data scientists to explore attrition and employee retention rates, usually this is data that would be gathered by the Human resources department."
   ]
  },
  {
   "cell_type": "code",
   "execution_count": 57,
   "id": "e42a597b",
   "metadata": {},
   "outputs": [],
   "source": [
    "# ref: https://www.kaggle.com/datasets/pavansubhasht/ibm-hr-analytics-attrition-dataset\n",
    "ec_df = pd.read_csv('./WA_Fn-UseC_-HR-Employee-Attrition.csv')"
   ]
  },
  {
   "cell_type": "code",
   "execution_count": 58,
   "id": "acd43552",
   "metadata": {},
   "outputs": [
    {
     "data": {
      "text/html": [
       "<div>\n",
       "<style scoped>\n",
       "    .dataframe tbody tr th:only-of-type {\n",
       "        vertical-align: middle;\n",
       "    }\n",
       "\n",
       "    .dataframe tbody tr th {\n",
       "        vertical-align: top;\n",
       "    }\n",
       "\n",
       "    .dataframe thead th {\n",
       "        text-align: right;\n",
       "    }\n",
       "</style>\n",
       "<table border=\"1\" class=\"dataframe\">\n",
       "  <thead>\n",
       "    <tr style=\"text-align: right;\">\n",
       "      <th></th>\n",
       "      <th>Age</th>\n",
       "      <th>Attrition</th>\n",
       "      <th>BusinessTravel</th>\n",
       "      <th>DailyRate</th>\n",
       "      <th>Department</th>\n",
       "      <th>DistanceFromHome</th>\n",
       "      <th>Education</th>\n",
       "      <th>EducationField</th>\n",
       "      <th>EmployeeCount</th>\n",
       "      <th>EmployeeNumber</th>\n",
       "      <th>EnvironmentSatisfaction</th>\n",
       "      <th>Gender</th>\n",
       "      <th>HourlyRate</th>\n",
       "      <th>JobInvolvement</th>\n",
       "      <th>JobLevel</th>\n",
       "      <th>JobRole</th>\n",
       "      <th>JobSatisfaction</th>\n",
       "      <th>MaritalStatus</th>\n",
       "      <th>MonthlyIncome</th>\n",
       "      <th>MonthlyRate</th>\n",
       "      <th>NumCompaniesWorked</th>\n",
       "      <th>Over18</th>\n",
       "      <th>OverTime</th>\n",
       "      <th>PercentSalaryHike</th>\n",
       "      <th>PerformanceRating</th>\n",
       "      <th>RelationshipSatisfaction</th>\n",
       "      <th>StandardHours</th>\n",
       "      <th>StockOptionLevel</th>\n",
       "      <th>TotalWorkingYears</th>\n",
       "      <th>TrainingTimesLastYear</th>\n",
       "      <th>WorkLifeBalance</th>\n",
       "      <th>YearsAtCompany</th>\n",
       "      <th>YearsInCurrentRole</th>\n",
       "      <th>YearsSinceLastPromotion</th>\n",
       "      <th>YearsWithCurrManager</th>\n",
       "    </tr>\n",
       "  </thead>\n",
       "  <tbody>\n",
       "    <tr>\n",
       "      <th>0</th>\n",
       "      <td>41</td>\n",
       "      <td>Yes</td>\n",
       "      <td>Travel_Rarely</td>\n",
       "      <td>1102</td>\n",
       "      <td>Sales</td>\n",
       "      <td>1</td>\n",
       "      <td>2</td>\n",
       "      <td>Life Sciences</td>\n",
       "      <td>1</td>\n",
       "      <td>1</td>\n",
       "      <td>2</td>\n",
       "      <td>Female</td>\n",
       "      <td>94</td>\n",
       "      <td>3</td>\n",
       "      <td>2</td>\n",
       "      <td>Sales Executive</td>\n",
       "      <td>4</td>\n",
       "      <td>Single</td>\n",
       "      <td>5993</td>\n",
       "      <td>19479</td>\n",
       "      <td>8</td>\n",
       "      <td>Y</td>\n",
       "      <td>Yes</td>\n",
       "      <td>11</td>\n",
       "      <td>3</td>\n",
       "      <td>1</td>\n",
       "      <td>80</td>\n",
       "      <td>0</td>\n",
       "      <td>8</td>\n",
       "      <td>0</td>\n",
       "      <td>1</td>\n",
       "      <td>6</td>\n",
       "      <td>4</td>\n",
       "      <td>0</td>\n",
       "      <td>5</td>\n",
       "    </tr>\n",
       "    <tr>\n",
       "      <th>1</th>\n",
       "      <td>49</td>\n",
       "      <td>No</td>\n",
       "      <td>Travel_Frequently</td>\n",
       "      <td>279</td>\n",
       "      <td>Research &amp; Development</td>\n",
       "      <td>8</td>\n",
       "      <td>1</td>\n",
       "      <td>Life Sciences</td>\n",
       "      <td>1</td>\n",
       "      <td>2</td>\n",
       "      <td>3</td>\n",
       "      <td>Male</td>\n",
       "      <td>61</td>\n",
       "      <td>2</td>\n",
       "      <td>2</td>\n",
       "      <td>Research Scientist</td>\n",
       "      <td>2</td>\n",
       "      <td>Married</td>\n",
       "      <td>5130</td>\n",
       "      <td>24907</td>\n",
       "      <td>1</td>\n",
       "      <td>Y</td>\n",
       "      <td>No</td>\n",
       "      <td>23</td>\n",
       "      <td>4</td>\n",
       "      <td>4</td>\n",
       "      <td>80</td>\n",
       "      <td>1</td>\n",
       "      <td>10</td>\n",
       "      <td>3</td>\n",
       "      <td>3</td>\n",
       "      <td>10</td>\n",
       "      <td>7</td>\n",
       "      <td>1</td>\n",
       "      <td>7</td>\n",
       "    </tr>\n",
       "    <tr>\n",
       "      <th>2</th>\n",
       "      <td>37</td>\n",
       "      <td>Yes</td>\n",
       "      <td>Travel_Rarely</td>\n",
       "      <td>1373</td>\n",
       "      <td>Research &amp; Development</td>\n",
       "      <td>2</td>\n",
       "      <td>2</td>\n",
       "      <td>Other</td>\n",
       "      <td>1</td>\n",
       "      <td>4</td>\n",
       "      <td>4</td>\n",
       "      <td>Male</td>\n",
       "      <td>92</td>\n",
       "      <td>2</td>\n",
       "      <td>1</td>\n",
       "      <td>Laboratory Technician</td>\n",
       "      <td>3</td>\n",
       "      <td>Single</td>\n",
       "      <td>2090</td>\n",
       "      <td>2396</td>\n",
       "      <td>6</td>\n",
       "      <td>Y</td>\n",
       "      <td>Yes</td>\n",
       "      <td>15</td>\n",
       "      <td>3</td>\n",
       "      <td>2</td>\n",
       "      <td>80</td>\n",
       "      <td>0</td>\n",
       "      <td>7</td>\n",
       "      <td>3</td>\n",
       "      <td>3</td>\n",
       "      <td>0</td>\n",
       "      <td>0</td>\n",
       "      <td>0</td>\n",
       "      <td>0</td>\n",
       "    </tr>\n",
       "    <tr>\n",
       "      <th>3</th>\n",
       "      <td>33</td>\n",
       "      <td>No</td>\n",
       "      <td>Travel_Frequently</td>\n",
       "      <td>1392</td>\n",
       "      <td>Research &amp; Development</td>\n",
       "      <td>3</td>\n",
       "      <td>4</td>\n",
       "      <td>Life Sciences</td>\n",
       "      <td>1</td>\n",
       "      <td>5</td>\n",
       "      <td>4</td>\n",
       "      <td>Female</td>\n",
       "      <td>56</td>\n",
       "      <td>3</td>\n",
       "      <td>1</td>\n",
       "      <td>Research Scientist</td>\n",
       "      <td>3</td>\n",
       "      <td>Married</td>\n",
       "      <td>2909</td>\n",
       "      <td>23159</td>\n",
       "      <td>1</td>\n",
       "      <td>Y</td>\n",
       "      <td>Yes</td>\n",
       "      <td>11</td>\n",
       "      <td>3</td>\n",
       "      <td>3</td>\n",
       "      <td>80</td>\n",
       "      <td>0</td>\n",
       "      <td>8</td>\n",
       "      <td>3</td>\n",
       "      <td>3</td>\n",
       "      <td>8</td>\n",
       "      <td>7</td>\n",
       "      <td>3</td>\n",
       "      <td>0</td>\n",
       "    </tr>\n",
       "    <tr>\n",
       "      <th>4</th>\n",
       "      <td>27</td>\n",
       "      <td>No</td>\n",
       "      <td>Travel_Rarely</td>\n",
       "      <td>591</td>\n",
       "      <td>Research &amp; Development</td>\n",
       "      <td>2</td>\n",
       "      <td>1</td>\n",
       "      <td>Medical</td>\n",
       "      <td>1</td>\n",
       "      <td>7</td>\n",
       "      <td>1</td>\n",
       "      <td>Male</td>\n",
       "      <td>40</td>\n",
       "      <td>3</td>\n",
       "      <td>1</td>\n",
       "      <td>Laboratory Technician</td>\n",
       "      <td>2</td>\n",
       "      <td>Married</td>\n",
       "      <td>3468</td>\n",
       "      <td>16632</td>\n",
       "      <td>9</td>\n",
       "      <td>Y</td>\n",
       "      <td>No</td>\n",
       "      <td>12</td>\n",
       "      <td>3</td>\n",
       "      <td>4</td>\n",
       "      <td>80</td>\n",
       "      <td>1</td>\n",
       "      <td>6</td>\n",
       "      <td>3</td>\n",
       "      <td>3</td>\n",
       "      <td>2</td>\n",
       "      <td>2</td>\n",
       "      <td>2</td>\n",
       "      <td>2</td>\n",
       "    </tr>\n",
       "  </tbody>\n",
       "</table>\n",
       "</div>"
      ],
      "text/plain": [
       "   Age Attrition     BusinessTravel  DailyRate              Department  \\\n",
       "0   41       Yes      Travel_Rarely       1102                   Sales   \n",
       "1   49        No  Travel_Frequently        279  Research & Development   \n",
       "2   37       Yes      Travel_Rarely       1373  Research & Development   \n",
       "3   33        No  Travel_Frequently       1392  Research & Development   \n",
       "4   27        No      Travel_Rarely        591  Research & Development   \n",
       "\n",
       "   DistanceFromHome  Education EducationField  EmployeeCount  EmployeeNumber  \\\n",
       "0                 1          2  Life Sciences              1               1   \n",
       "1                 8          1  Life Sciences              1               2   \n",
       "2                 2          2          Other              1               4   \n",
       "3                 3          4  Life Sciences              1               5   \n",
       "4                 2          1        Medical              1               7   \n",
       "\n",
       "   EnvironmentSatisfaction  Gender  HourlyRate  JobInvolvement  JobLevel  \\\n",
       "0                        2  Female          94               3         2   \n",
       "1                        3    Male          61               2         2   \n",
       "2                        4    Male          92               2         1   \n",
       "3                        4  Female          56               3         1   \n",
       "4                        1    Male          40               3         1   \n",
       "\n",
       "                 JobRole  JobSatisfaction MaritalStatus  MonthlyIncome  \\\n",
       "0        Sales Executive                4        Single           5993   \n",
       "1     Research Scientist                2       Married           5130   \n",
       "2  Laboratory Technician                3        Single           2090   \n",
       "3     Research Scientist                3       Married           2909   \n",
       "4  Laboratory Technician                2       Married           3468   \n",
       "\n",
       "   MonthlyRate  NumCompaniesWorked Over18 OverTime  PercentSalaryHike  \\\n",
       "0        19479                   8      Y      Yes                 11   \n",
       "1        24907                   1      Y       No                 23   \n",
       "2         2396                   6      Y      Yes                 15   \n",
       "3        23159                   1      Y      Yes                 11   \n",
       "4        16632                   9      Y       No                 12   \n",
       "\n",
       "   PerformanceRating  RelationshipSatisfaction  StandardHours  \\\n",
       "0                  3                         1             80   \n",
       "1                  4                         4             80   \n",
       "2                  3                         2             80   \n",
       "3                  3                         3             80   \n",
       "4                  3                         4             80   \n",
       "\n",
       "   StockOptionLevel  TotalWorkingYears  TrainingTimesLastYear  \\\n",
       "0                 0                  8                      0   \n",
       "1                 1                 10                      3   \n",
       "2                 0                  7                      3   \n",
       "3                 0                  8                      3   \n",
       "4                 1                  6                      3   \n",
       "\n",
       "   WorkLifeBalance  YearsAtCompany  YearsInCurrentRole  \\\n",
       "0                1               6                   4   \n",
       "1                3              10                   7   \n",
       "2                3               0                   0   \n",
       "3                3               8                   7   \n",
       "4                3               2                   2   \n",
       "\n",
       "   YearsSinceLastPromotion  YearsWithCurrManager  \n",
       "0                        0                     5  \n",
       "1                        1                     7  \n",
       "2                        0                     0  \n",
       "3                        3                     0  \n",
       "4                        2                     2  "
      ]
     },
     "execution_count": 58,
     "metadata": {},
     "output_type": "execute_result"
    }
   ],
   "source": [
    "ec_df.head()"
   ]
  },
  {
   "cell_type": "code",
   "execution_count": 59,
   "id": "5d8fe69c",
   "metadata": {},
   "outputs": [
    {
     "data": {
      "text/plain": [
       "(1470, 35)"
      ]
     },
     "execution_count": 59,
     "metadata": {},
     "output_type": "execute_result"
    }
   ],
   "source": [
    "ec_df.shape"
   ]
  },
  {
   "cell_type": "markdown",
   "id": "d176313a",
   "metadata": {},
   "source": [
    "### Preprocessing pipeline"
   ]
  },
  {
   "cell_type": "code",
   "execution_count": 60,
   "id": "2d393390",
   "metadata": {},
   "outputs": [],
   "source": [
    "#Getting the columns that are categorical and the ones that are numerical\n",
    "columns = ec_df.columns"
   ]
  },
  {
   "cell_type": "code",
   "execution_count": 61,
   "id": "d837afbd",
   "metadata": {},
   "outputs": [],
   "source": [
    "categorical_columns = []\n",
    "numerical_columns = []\n",
    "for i in columns:\n",
    "    if ec_df[i].dtype == 'object':\n",
    "        categorical_columns.append(i)\n",
    "    else:\n",
    "        numerical_columns.append(i)"
   ]
  },
  {
   "cell_type": "code",
   "execution_count": 68,
   "id": "ed1bd74b",
   "metadata": {},
   "outputs": [],
   "source": [
    "from sklearn.pipeline import Pipeline\n",
    "from sklearn.impute import SimpleImputer\n",
    "from sklearn.preprocessing import MinMaxScaler, OneHotEncoder\n",
    "numeric_pipeline = Pipeline(steps = [('num_imputer',SimpleImputer(strategy='median')),('scaler',MinMaxScaler())])\n",
    "category_pipeline = Pipeline(steps = [('cat_imputer',SimpleImputer(strategy='most_frequent')),('encoder',OneHotEncoder(handle_unknown='error',drop='first'))])\n",
    "#Creating a transformer pipeline\n",
    "from sklearn.compose import ColumnTransformer, make_column_selector\n",
    "preprocessing = ColumnTransformer(transformers= [('num',numeric_pipeline, make_column_selector(dtype_exclude='object')),\n",
    "                                               ('cat',category_pipeline, make_column_selector(dtype_include='object')),])"
   ]
  },
  {
   "cell_type": "code",
   "execution_count": 69,
   "id": "7a9b3711",
   "metadata": {},
   "outputs": [],
   "source": [
    "X = ec_df.drop('Attrition',axis =1 )\n",
    "y = ec_df['Attrition']"
   ]
  },
  {
   "cell_type": "code",
   "execution_count": 70,
   "id": "08bca3f2",
   "metadata": {},
   "outputs": [],
   "source": [
    "from sklearn.model_selection import train_test_split\n",
    "X_train,X_val,y_train,y_val = train_test_split(X,y,test_size = 0.3, stratify=y,random_state=100)"
   ]
  },
  {
   "cell_type": "markdown",
   "id": "3cd153fa",
   "metadata": {},
   "source": [
    "### Baseline Models"
   ]
  },
  {
   "cell_type": "markdown",
   "id": "8b96d671",
   "metadata": {},
   "source": [
    "### Decision Tree Classifier"
   ]
  },
  {
   "cell_type": "code",
   "execution_count": 71,
   "id": "ad17e591",
   "metadata": {},
   "outputs": [],
   "source": [
    "from sklearn.tree import DecisionTreeClassifier\n",
    "dec_clf = DecisionTreeClassifier()\n",
    "dec_pipe = Pipeline(steps = [('preprocessing',preprocessing),('model',dec_clf)])"
   ]
  },
  {
   "cell_type": "code",
   "execution_count": 72,
   "id": "c2ba5eb6",
   "metadata": {},
   "outputs": [
    {
     "data": {
      "text/plain": [
       "Pipeline(steps=[('preprocessing',\n",
       "                 ColumnTransformer(transformers=[('num',\n",
       "                                                  Pipeline(steps=[('num_imputer',\n",
       "                                                                   SimpleImputer(strategy='median')),\n",
       "                                                                  ('scaler',\n",
       "                                                                   MinMaxScaler())]),\n",
       "                                                  <sklearn.compose._column_transformer.make_column_selector object at 0x7f90f1022970>),\n",
       "                                                 ('cat',\n",
       "                                                  Pipeline(steps=[('cat_imputer',\n",
       "                                                                   SimpleImputer(strategy='most_frequent')),\n",
       "                                                                  ('encoder',\n",
       "                                                                   OneHotEncoder(drop='first'))]),\n",
       "                                                  <sklearn.compose._column_transformer.make_column_selector object at 0x7f90f1022d90>)])),\n",
       "                ('model', DecisionTreeClassifier())])"
      ]
     },
     "execution_count": 72,
     "metadata": {},
     "output_type": "execute_result"
    }
   ],
   "source": [
    "dec_pipe.fit(X_train,y_train)"
   ]
  },
  {
   "cell_type": "code",
   "execution_count": 73,
   "id": "be2306c2",
   "metadata": {},
   "outputs": [],
   "source": [
    "temp = y_val.apply(lambda x: 1 if x=='Yes' else 0)"
   ]
  },
  {
   "cell_type": "code",
   "execution_count": 74,
   "id": "549a12b8",
   "metadata": {},
   "outputs": [
    {
     "name": "stdout",
     "output_type": "stream",
     "text": [
      "Training & Validation ROC AUC Scores:\n",
      " ----------------------------------------\n",
      "Training   roc auc score= 1.0000\n",
      "Validation roc auc score= 0.5728\n",
      "\n",
      "Training & Validation Confusion Metrices:\n",
      "Training   confusion matrix:\n",
      " [[863   0]\n",
      " [  0 166]]\n",
      "Validation confusion matrix:\n",
      " [[304  66]\n",
      " [ 48  23]]\n",
      "Training Accuracy of the model:\n",
      " 1.0\n",
      "Testing Accuracy of the model:\n",
      " 0.7415\n"
     ]
    }
   ],
   "source": [
    "from sklearn.metrics import roc_auc_score,confusion_matrix,accuracy_score\n",
    "train_preds = dec_pipe.predict(X_train)\n",
    "val_preds = dec_pipe.predict(X_val)\n",
    "\n",
    "train_preds_proba = dec_pipe.predict_proba(X_train)\n",
    "val_preds_proba = dec_pipe.predict_proba(X_val)\n",
    "\n",
    "print('Training & Validation ROC AUC Scores:\\n', '-'*40)\n",
    "print('Training   roc auc score= {:.4f}'.format(roc_auc_score(y_train, train_preds_proba[:, 1])))\n",
    "print('Validation roc auc score= {:.4f}'.format(roc_auc_score(y_val, val_preds_proba[:, 1])))\n",
    "print('')\n",
    "print('Training & Validation Confusion Metrices:')\n",
    "print('Training   confusion matrix:\\n', confusion_matrix(y_train, train_preds))\n",
    "print('Validation confusion matrix:\\n', confusion_matrix(y_val, val_preds))\n",
    "print('Training Accuracy of the model:\\n',accuracy_score(y_train,train_preds))\n",
    "print('Testing Accuracy of the model:\\n',round(accuracy_score(y_val,val_preds),4))\n",
    "false_positive_rate_dec, true_positive_rate_dec, threshold1_dec = roc_curve(temp, val_preds_proba[:, 1])"
   ]
  },
  {
   "cell_type": "markdown",
   "id": "f06e2c3e",
   "metadata": {},
   "source": [
    "### Hyper-parameter tuning for DecisionTreesClassifier"
   ]
  },
  {
   "cell_type": "code",
   "execution_count": 75,
   "id": "57648c41",
   "metadata": {},
   "outputs": [
    {
     "name": "stdout",
     "output_type": "stream",
     "text": [
      "{'model__criterion': 'entropy', 'model__max_depth': 2, 'model__min_samples_split': 2}\n",
      "Train Accuracy of the model after hyperparameter tuning\n",
      "0.8542\n",
      "Test Accuracy of the model after hyperparameter tuning\n",
      "0.8277\n",
      "AUC Score of the Train data is:\n",
      "0.7372\n",
      "AUC Score of the Test data is:\n",
      "0.6902\n",
      "Execution time is:\n",
      "0.6683580875396729\n"
     ]
    }
   ],
   "source": [
    "import warnings\n",
    "warnings.filterwarnings('ignore')\n",
    "import time\n",
    "from sklearn.model_selection import GridSearchCV\n",
    "from sklearn.metrics import accuracy_score\n",
    "start = time.time()\n",
    "parameters = {'model__criterion':['gini','entropy'],'model__max_depth':[2,4,6,8],'model__min_samples_split':[2,3,4]}\n",
    "clf=GridSearchCV(dec_pipe,parameters,scoring='roc_auc',n_jobs = -1)\n",
    "clf.fit(X_train, y_train)\n",
    "print(clf.best_params_)\n",
    "predicted=clf.predict(X_val)\n",
    "proba = clf.predict_proba(X_val)\n",
    "print('Train Accuracy of the model after hyperparameter tuning')\n",
    "print(round(accuracy_score(y_train, clf.predict(X_train)),4))\n",
    "print('Test Accuracy of the model after hyperparameter tuning')\n",
    "print(round(accuracy_score(y_val, predicted),4))\n",
    "print('AUC Score of the Train data is:')\n",
    "print(round(roc_auc_score(y_train, clf.predict_proba(X_train)[:,1]),4))\n",
    "print('AUC Score of the Test data is:')\n",
    "print(round(roc_auc_score(y_val, proba[:, 1]),4))\n",
    "false_positive_rate_dec_hyper, true_positive_rate_dec_hyper, threshold1_dec_hyper = roc_curve(temp, proba[:, 1])\n",
    "end = time.time()\n",
    "print('Execution time is:')\n",
    "print(end - start)"
   ]
  },
  {
   "cell_type": "code",
   "execution_count": 76,
   "id": "d32206f3",
   "metadata": {},
   "outputs": [
    {
     "data": {
      "image/png": "[encoded data removed]",
      "text/plain": [
       "<Figure size 432x288 with 2 Axes>"
      ]
     },
     "metadata": {
      "needs_background": "light"
     },
     "output_type": "display_data"
    }
   ],
   "source": [
    "import seaborn as sns\n",
    "\n",
    "ax = sns.heatmap(confusion_matrix(y_val, val_preds), annot=True, cmap='Blues')\n",
    "\n",
    "ax.set_title('Seaborn Confusion Matrix with labels\\n\\n');\n",
    "ax.set_xlabel('\\nPredicted Values')\n",
    "ax.set_ylabel('Actual Values ');\n",
    "\n",
    "## Ticket labels - List must be in alphabetical order\n",
    "ax.xaxis.set_ticklabels(['False','True'])\n",
    "ax.yaxis.set_ticklabels(['False','True'])\n",
    "\n",
    "## Display the visualization of the Confusion Matrix.\n",
    "plt.show()"
   ]
  },
  {
   "cell_type": "code",
   "execution_count": 77,
   "id": "7add3fee",
   "metadata": {},
   "outputs": [
    {
     "data": {
      "image/png": "[encoded data removed]",
      "text/plain": [
       "<Figure size 432x288 with 2 Axes>"
      ]
     },
     "metadata": {
      "needs_background": "light"
     },
     "output_type": "display_data"
    }
   ],
   "source": [
    "ax = sns.heatmap(confusion_matrix(y_val, clf.predict(X_val)), annot=True, cmap='Blues')\n",
    "\n",
    "ax.set_title('Seaborn Confusion Matrix with labels\\n\\n');\n",
    "ax.set_xlabel('\\nPredicted Values')\n",
    "ax.set_ylabel('Actual Values ');\n",
    "\n",
    "## Ticket labels - List must be in alphabetical order\n",
    "ax.xaxis.set_ticklabels(['False','True'])\n",
    "ax.yaxis.set_ticklabels(['False','True'])\n",
    "\n",
    "## Display the visualization of the Confusion Matrix.\n",
    "plt.show()"
   ]
  },
  {
   "cell_type": "markdown",
   "id": "9c675804",
   "metadata": {},
   "source": [
    "### KNN"
   ]
  },
  {
   "cell_type": "code",
   "execution_count": 78,
   "id": "b2eeb2c4",
   "metadata": {},
   "outputs": [],
   "source": [
    "from sklearn.neighbors import KNeighborsClassifier\n",
    "knn_clf = KNeighborsClassifier()\n",
    "knn_pipe = Pipeline(steps = [('preprocessing',preprocessing),('model',knn_clf)])"
   ]
  },
  {
   "cell_type": "code",
   "execution_count": 79,
   "id": "445b540d",
   "metadata": {},
   "outputs": [
    {
     "data": {
      "text/plain": [
       "Pipeline(steps=[('preprocessing',\n",
       "                 ColumnTransformer(transformers=[('num',\n",
       "                                                  Pipeline(steps=[('num_imputer',\n",
       "                                                                   SimpleImputer(strategy='median')),\n",
       "                                                                  ('scaler',\n",
       "                                                                   MinMaxScaler())]),\n",
       "                                                  <sklearn.compose._column_transformer.make_column_selector object at 0x7f90f1022970>),\n",
       "                                                 ('cat',\n",
       "                                                  Pipeline(steps=[('cat_imputer',\n",
       "                                                                   SimpleImputer(strategy='most_frequent')),\n",
       "                                                                  ('encoder',\n",
       "                                                                   OneHotEncoder(drop='first'))]),\n",
       "                                                  <sklearn.compose._column_transformer.make_column_selector object at 0x7f90f1022d90>)])),\n",
       "                ('model', KNeighborsClassifier())])"
      ]
     },
     "execution_count": 79,
     "metadata": {},
     "output_type": "execute_result"
    }
   ],
   "source": [
    "knn_pipe.fit(X_train,y_train)"
   ]
  },
  {
   "cell_type": "code",
   "execution_count": 80,
   "id": "532825a2",
   "metadata": {},
   "outputs": [
    {
     "name": "stdout",
     "output_type": "stream",
     "text": [
      "Training & Validation ROC AUC Scores:\n",
      " ----------------------------------------\n",
      "Training   roc auc score= 0.8949\n",
      "Validation roc auc score= 0.6546\n",
      "\n",
      "Training & Validation Confusion Metrices:\n",
      "Training   confusion matrix:\n",
      " [[851  12]\n",
      " [120  46]]\n",
      "Validation confusion matrix:\n",
      " [[365   5]\n",
      " [ 61  10]]\n",
      "Training Accuracy of the model:\n",
      " 0.8717\n",
      "Testing Accuracy of the model:\n",
      " 0.8503\n"
     ]
    }
   ],
   "source": [
    "from sklearn.metrics import roc_auc_score,confusion_matrix,accuracy_score\n",
    "train_preds = knn_pipe.predict(X_train)\n",
    "val_preds = knn_pipe.predict(X_val)\n",
    "\n",
    "train_preds_proba = knn_pipe.predict_proba(X_train)\n",
    "val_preds_proba = knn_pipe.predict_proba(X_val)\n",
    "\n",
    "print('Training & Validation ROC AUC Scores:\\n', '-'*40)\n",
    "print('Training   roc auc score= {:.4f}'.format(roc_auc_score(y_train, train_preds_proba[:, 1])))\n",
    "print('Validation roc auc score= {:.4f}'.format(roc_auc_score(y_val, val_preds_proba[:, 1])))\n",
    "print('')\n",
    "print('Training & Validation Confusion Metrices:')\n",
    "print('Training   confusion matrix:\\n', confusion_matrix(y_train, train_preds))\n",
    "print('Validation confusion matrix:\\n', confusion_matrix(y_val, val_preds))\n",
    "print('Training Accuracy of the model:\\n',round(accuracy_score(y_train,train_preds),4))\n",
    "print('Testing Accuracy of the model:\\n',round(accuracy_score(y_val,val_preds),4))\n",
    "false_positive_rate_knn, true_positive_rate_knn, threshold1_knn = roc_curve(temp, val_preds_proba[:, 1])"
   ]
  },
  {
   "cell_type": "markdown",
   "id": "3509978c",
   "metadata": {},
   "source": [
    "### Hyper-parameter tuning for KNN"
   ]
  },
  {
   "cell_type": "code",
   "execution_count": 81,
   "id": "b58c832f",
   "metadata": {},
   "outputs": [
    {
     "name": "stdout",
     "output_type": "stream",
     "text": [
      "{'model__metric': 'manhattan', 'model__n_neighbors': 20, 'model__weights': 'uniform'}\n",
      "Train Accuracy of the model after hyperparameter tuning\n",
      "0.8494\n",
      "Test Accuracy of the model after hyperparameter tuning\n",
      "0.8413\n",
      "AUC Score of the Train data is:\n",
      "0.8436\n",
      "AUC Score of the Test data is:\n",
      "0.769\n",
      "Execution time is:\n",
      "0.7196700572967529\n"
     ]
    }
   ],
   "source": [
    "import warnings\n",
    "warnings.filterwarnings('ignore')\n",
    "import time\n",
    "from sklearn.model_selection import GridSearchCV\n",
    "from sklearn.metrics import accuracy_score\n",
    "start = time.time()\n",
    "parameters = {'model__n_neighbors':[3,5,10,15,20],'model__weights':['uniform','distance'],'model__metric':['euclidean','manhattan']}\n",
    "clf=GridSearchCV(knn_pipe,parameters,scoring='roc_auc',n_jobs = -1)\n",
    "clf.fit(X_train, y_train)\n",
    "print(clf.best_params_)\n",
    "predicted=clf.predict(X_val)\n",
    "proba = clf.predict_proba(X_val)\n",
    "print('Train Accuracy of the model after hyperparameter tuning')\n",
    "print(round(accuracy_score(y_train, clf.predict(X_train)),4))\n",
    "print('Test Accuracy of the model after hyperparameter tuning')\n",
    "print(round(accuracy_score(y_val, predicted),4))\n",
    "print('AUC Score of the Train data is:')\n",
    "print(round(roc_auc_score(y_train, clf.predict_proba(X_train)[:,1]),4))\n",
    "print('AUC Score of the Test data is:')\n",
    "print(round(roc_auc_score(y_val, proba[:, 1]),4))\n",
    "false_positive_rate_knn_hyper, true_positive_rate_knn_hyper, threshold1_knn_hyper = roc_curve(temp, proba[:, 1])\n",
    "end = time.time()\n",
    "print('Execution time is:')\n",
    "print(end - start)"
   ]
  },
  {
   "cell_type": "code",
   "execution_count": 85,
   "id": "0a4fc814",
   "metadata": {
    "scrolled": true
   },
   "outputs": [
    {
     "data": {
      "image/png": "[encoded data removed]",
      "text/plain": [
       "<Figure size 432x288 with 2 Axes>"
      ]
     },
     "metadata": {
      "needs_background": "light"
     },
     "output_type": "display_data"
    }
   ],
   "source": [
    "import seaborn as sns\n",
    "\n",
    "ax = sns.heatmap(confusion_matrix(y_val, val_preds), annot=True, cmap='Blues')\n",
    "\n",
    "ax.set_title('Seaborn Confusion Matrix with labels\\n\\n');\n",
    "ax.set_xlabel('\\nPredicted Values')\n",
    "ax.set_ylabel('Actual Values ');\n",
    "\n",
    "## Ticket labels - List must be in alphabetical order\n",
    "ax.xaxis.set_ticklabels(['False','True'])\n",
    "ax.yaxis.set_ticklabels(['False','True'])\n",
    "\n",
    "## Display the visualization of the Confusion Matrix.\n",
    "plt.show()"
   ]
  },
  {
   "cell_type": "code",
   "execution_count": 86,
   "id": "bbc676db",
   "metadata": {},
   "outputs": [
    {
     "data": {
      "image/png": "[encoded data removed]",
      "text/plain": [
       "<Figure size 432x288 with 2 Axes>"
      ]
     },
     "metadata": {
      "needs_background": "light"
     },
     "output_type": "display_data"
    }
   ],
   "source": [
    "ax = sns.heatmap(confusion_matrix(y_val, clf.predict(X_val)), annot=True, cmap='Blues')\n",
    "\n",
    "ax.set_title('Seaborn Confusion Matrix with labels\\n\\n');\n",
    "ax.set_xlabel('\\nPredicted Values')\n",
    "ax.set_ylabel('Actual Values ');\n",
    "\n",
    "## Ticket labels - List must be in alphabetical order\n",
    "ax.xaxis.set_ticklabels(['False','True'])\n",
    "ax.yaxis.set_ticklabels(['False','True'])\n",
    "\n",
    "## Display the visualization of the Confusion Matrix.\n",
    "plt.show()"
   ]
  },
  {
   "cell_type": "markdown",
   "id": "a9a458a9",
   "metadata": {},
   "source": [
    "### Ensemble Models"
   ]
  },
  {
   "cell_type": "markdown",
   "id": "d76b28c1",
   "metadata": {},
   "source": [
    "#### Random Forest Classifier"
   ]
  },
  {
   "cell_type": "code",
   "execution_count": 87,
   "id": "c0ff627f",
   "metadata": {},
   "outputs": [],
   "source": [
    "from sklearn.ensemble import RandomForestClassifier\n",
    "rand_clf = RandomForestClassifier()\n",
    "rand_pipe = Pipeline(steps = [('preprocessing',preprocessing),('model',rand_clf)])"
   ]
  },
  {
   "cell_type": "code",
   "execution_count": 88,
   "id": "c5f99dd1",
   "metadata": {},
   "outputs": [
    {
     "data": {
      "text/plain": [
       "Pipeline(steps=[('preprocessing',\n",
       "                 ColumnTransformer(transformers=[('num',\n",
       "                                                  Pipeline(steps=[('num_imputer',\n",
       "                                                                   SimpleImputer(strategy='median')),\n",
       "                                                                  ('scaler',\n",
       "                                                                   MinMaxScaler())]),\n",
       "                                                  <sklearn.compose._column_transformer.make_column_selector object at 0x7f90f1022970>),\n",
       "                                                 ('cat',\n",
       "                                                  Pipeline(steps=[('cat_imputer',\n",
       "                                                                   SimpleImputer(strategy='most_frequent')),\n",
       "                                                                  ('encoder',\n",
       "                                                                   OneHotEncoder(drop='first'))]),\n",
       "                                                  <sklearn.compose._column_transformer.make_column_selector object at 0x7f90f1022d90>)])),\n",
       "                ('model', RandomForestClassifier())])"
      ]
     },
     "execution_count": 88,
     "metadata": {},
     "output_type": "execute_result"
    }
   ],
   "source": [
    "rand_pipe.fit(X_train,y_train)"
   ]
  },
  {
   "cell_type": "code",
   "execution_count": 89,
   "id": "fdbe8110",
   "metadata": {},
   "outputs": [
    {
     "name": "stdout",
     "output_type": "stream",
     "text": [
      "Training & Validation ROC AUC Scores:\n",
      " ----------------------------------------\n",
      "Training   roc auc score= 1.0000\n",
      "Validation roc auc score= 0.8199\n",
      "\n",
      "Training & Validation Confusion Metrices:\n",
      "Training   confusion matrix:\n",
      " [[863   0]\n",
      " [  0 166]]\n",
      "Validation confusion matrix:\n",
      " [[368   2]\n",
      " [ 63   8]]\n",
      "Training Accuracy of the model:\n",
      " 1.0\n",
      "Testing Accuracy of the model:\n",
      " 0.8526\n"
     ]
    }
   ],
   "source": [
    "from sklearn.metrics import roc_auc_score,confusion_matrix,accuracy_score\n",
    "train_preds = rand_pipe.predict(X_train)\n",
    "val_preds = rand_pipe.predict(X_val)\n",
    "\n",
    "train_preds_proba = rand_pipe.predict_proba(X_train)\n",
    "val_preds_proba = rand_pipe.predict_proba(X_val)\n",
    "\n",
    "print('Training & Validation ROC AUC Scores:\\n', '-'*40)\n",
    "print('Training   roc auc score= {:.4f}'.format(roc_auc_score(y_train, train_preds_proba[:, 1])))\n",
    "print('Validation roc auc score= {:.4f}'.format(roc_auc_score(y_val, val_preds_proba[:, 1])))\n",
    "print('')\n",
    "print('Training & Validation Confusion Metrices:')\n",
    "print('Training   confusion matrix:\\n', confusion_matrix(y_train, train_preds))\n",
    "print('Validation confusion matrix:\\n', confusion_matrix(y_val, val_preds))\n",
    "print('Training Accuracy of the model:\\n',round(accuracy_score(y_train,train_preds),4))\n",
    "print('Testing Accuracy of the model:\\n',round(accuracy_score(y_val,val_preds),4))\n",
    "false_positive_rate_random, true_positive_rate_random, threshold1_random = roc_curve(temp, val_preds_proba[:, 1])"
   ]
  },
  {
   "cell_type": "markdown",
   "id": "f1aa7fb0",
   "metadata": {},
   "source": [
    "### Hyperparameter tuning for Random Forest Classifier"
   ]
  },
  {
   "cell_type": "code",
   "execution_count": 90,
   "id": "be1c5e64",
   "metadata": {
    "scrolled": true
   },
   "outputs": [
    {
     "name": "stdout",
     "output_type": "stream",
     "text": [
      "{'model__max_depth': 5, 'model__max_features': 'log2', 'model__n_estimators': 15}\n",
      "Train Accuracy of the model after hyperparameter tuning\n",
      "0.8678\n",
      "Test Accuracy of the model after hyperparameter tuning\n",
      "0.8503\n",
      "AUC Score of the Train data is:\n",
      "0.9177\n",
      "AUC Score of the Test data is:\n",
      "0.8067\n",
      "Execution time is:\n",
      "1.431257724761963\n"
     ]
    }
   ],
   "source": [
    "import warnings\n",
    "warnings.filterwarnings('ignore')\n",
    "import time\n",
    "from sklearn.model_selection import GridSearchCV\n",
    "from sklearn.metrics import accuracy_score\n",
    "start = time.time()\n",
    "parameters = {'model__n_estimators':[3,5,7,10,15],'model__max_depth':[5,10,None],'model__max_features':['auto','sqrt','log2']}\n",
    "clf=GridSearchCV(rand_pipe,parameters,scoring='roc_auc',n_jobs = -1)\n",
    "clf.fit(X_train, y_train)\n",
    "print(clf.best_params_)\n",
    "predicted=clf.predict(X_val)\n",
    "proba = clf.predict_proba(X_val)\n",
    "print('Train Accuracy of the model after hyperparameter tuning')\n",
    "print(round(accuracy_score(y_train, clf.predict(X_train)),4))\n",
    "print('Test Accuracy of the model after hyperparameter tuning')\n",
    "print(round(accuracy_score(y_val, predicted),4))\n",
    "print('AUC Score of the Train data is:')\n",
    "print(round(roc_auc_score(y_train, clf.predict_proba(X_train)[:,1]),4))\n",
    "print('AUC Score of the Test data is:')\n",
    "print(round(roc_auc_score(y_val, proba[:, 1]),4))\n",
    "end = time.time()\n",
    "false_positive_rate_random_hyper, true_positive_rate_random_hyper, threshold1_random_hyper = roc_curve(temp, proba[:, 1])\n",
    "print('Execution time is:')\n",
    "print(end - start)"
   ]
  },
  {
   "cell_type": "code",
   "execution_count": 91,
   "id": "7d00186c",
   "metadata": {
    "scrolled": true
   },
   "outputs": [
    {
     "data": {
      "image/png": "[encoded data removed]",
      "text/plain": [
       "<Figure size 432x288 with 2 Axes>"
      ]
     },
     "metadata": {
      "needs_background": "light"
     },
     "output_type": "display_data"
    }
   ],
   "source": [
    "ax = sns.heatmap(confusion_matrix(y_val, val_preds), annot=True, cmap='Blues')\n",
    "\n",
    "ax.set_title('Seaborn Confusion Matrix with labels\\n\\n');\n",
    "ax.set_xlabel('\\nPredicted Values')\n",
    "ax.set_ylabel('Actual Values ');\n",
    "\n",
    "## Ticket labels - List must be in alphabetical order\n",
    "ax.xaxis.set_ticklabels(['False','True'])\n",
    "ax.yaxis.set_ticklabels(['False','True'])\n",
    "\n",
    "## Display the visualization of the Confusion Matrix.\n",
    "plt.show()"
   ]
  },
  {
   "cell_type": "code",
   "execution_count": 92,
   "id": "1e3bebe6",
   "metadata": {},
   "outputs": [
    {
     "data": {
      "image/png": "[encoded data removed]",
      "text/plain": [
       "<Figure size 432x288 with 2 Axes>"
      ]
     },
     "metadata": {
      "needs_background": "light"
     },
     "output_type": "display_data"
    }
   ],
   "source": [
    "ax = sns.heatmap(confusion_matrix(y_val, clf.predict(X_val)), annot=True, cmap='Blues')\n",
    "\n",
    "ax.set_title('Seaborn Confusion Matrix with labels\\n\\n');\n",
    "ax.set_xlabel('\\nPredicted Values')\n",
    "ax.set_ylabel('Actual Values ');\n",
    "\n",
    "## Ticke`t labels - List must be in alphabetical order\n",
    "ax.xaxis.set_ticklabels(['False','True'])\n",
    "ax.yaxis.set_ticklabels(['False','True'])\n",
    "\n",
    "## Display the visualization of the Confusion Matrix.\n",
    "plt.show()"
   ]
  },
  {
   "cell_type": "markdown",
   "id": "b64c2d5a",
   "metadata": {},
   "source": [
    "### Adaboost Classifier"
   ]
  },
  {
   "cell_type": "code",
   "execution_count": 93,
   "id": "7d620697",
   "metadata": {},
   "outputs": [],
   "source": [
    "from sklearn.ensemble import AdaBoostClassifier\n",
    "ada_clf = AdaBoostClassifier()\n",
    "ada_pipe = Pipeline(steps = [('preprocessing',preprocessing),('model',ada_clf)])"
   ]
  },
  {
   "cell_type": "code",
   "execution_count": 94,
   "id": "db31d2cd",
   "metadata": {},
   "outputs": [
    {
     "data": {
      "text/plain": [
       "Pipeline(steps=[('preprocessing',\n",
       "                 ColumnTransformer(transformers=[('num',\n",
       "                                                  Pipeline(steps=[('num_imputer',\n",
       "                                                                   SimpleImputer(strategy='median')),\n",
       "                                                                  ('scaler',\n",
       "                                                                   MinMaxScaler())]),\n",
       "                                                  <sklearn.compose._column_transformer.make_column_selector object at 0x7f90f1022970>),\n",
       "                                                 ('cat',\n",
       "                                                  Pipeline(steps=[('cat_imputer',\n",
       "                                                                   SimpleImputer(strategy='most_frequent')),\n",
       "                                                                  ('encoder',\n",
       "                                                                   OneHotEncoder(drop='first'))]),\n",
       "                                                  <sklearn.compose._column_transformer.make_column_selector object at 0x7f90f1022d90>)])),\n",
       "                ('model', AdaBoostClassifier())])"
      ]
     },
     "execution_count": 94,
     "metadata": {},
     "output_type": "execute_result"
    }
   ],
   "source": [
    "ada_pipe.fit(X_train,y_train)"
   ]
  },
  {
   "cell_type": "code",
   "execution_count": 95,
   "id": "98eff2fc",
   "metadata": {},
   "outputs": [
    {
     "name": "stdout",
     "output_type": "stream",
     "text": [
      "Training & Validation ROC AUC Scores:\n",
      " ----------------------------------------\n",
      "Training   roc auc score= 0.9323\n",
      "Validation roc auc score= 0.7947\n",
      "\n",
      "Training & Validation Confusion Metrices:\n",
      "Training   confusion matrix:\n",
      " [[845  18]\n",
      " [ 79  87]]\n",
      "Validation confusion matrix:\n",
      " [[350  20]\n",
      " [ 41  30]]\n",
      "Training Accuracy of the model:\n",
      " 0.9057\n",
      "Testing Accuracy of the model:\n",
      " 0.8617\n"
     ]
    }
   ],
   "source": [
    "from sklearn.metrics import roc_auc_score,confusion_matrix,accuracy_score\n",
    "train_preds = ada_pipe.predict(X_train)\n",
    "val_preds = ada_pipe.predict(X_val)\n",
    "\n",
    "train_preds_proba = ada_pipe.predict_proba(X_train)\n",
    "val_preds_proba = ada_pipe.predict_proba(X_val)\n",
    "\n",
    "print('Training & Validation ROC AUC Scores:\\n', '-'*40)\n",
    "print('Training   roc auc score= {:.4f}'.format(roc_auc_score(y_train, train_preds_proba[:, 1])))\n",
    "print('Validation roc auc score= {:.4f}'.format(roc_auc_score(y_val, val_preds_proba[:, 1])))\n",
    "print('')\n",
    "print('Training & Validation Confusion Metrices:')\n",
    "print('Training   confusion matrix:\\n', confusion_matrix(y_train, train_preds))\n",
    "print('Validation confusion matrix:\\n', confusion_matrix(y_val, val_preds))\n",
    "print('Training Accuracy of the model:\\n',round(accuracy_score(y_train,train_preds),4))\n",
    "print('Testing Accuracy of the model:\\n',round(accuracy_score(y_val,val_preds),4))\n",
    "false_positive_rate_ada, true_positive_rate_ada, threshold1_ada = roc_curve(temp, val_preds_proba[:,1])"
   ]
  },
  {
   "cell_type": "markdown",
   "id": "511a0129",
   "metadata": {},
   "source": [
    "### Hyperparameter tuning for AdaBoost"
   ]
  },
  {
   "cell_type": "code",
   "execution_count": 96,
   "id": "9a984494",
   "metadata": {
    "scrolled": true
   },
   "outputs": [
    {
     "name": "stdout",
     "output_type": "stream",
     "text": [
      "{'model__n_estimators': 50}\n",
      "Train Accuracy of the model after hyperparameter tuning\n",
      "0.9057\n",
      "Test Accuracy of the model after hyperparameter tuning\n",
      "0.8617\n",
      "AUC Score of the Train data is:\n",
      "0.9323\n",
      "AUC Score of the Test data is:\n",
      "0.7947\n",
      "Execution time is:\n",
      "2.833677053451538\n"
     ]
    }
   ],
   "source": [
    "import warnings\n",
    "warnings.filterwarnings('ignore')\n",
    "import time\n",
    "from sklearn.model_selection import GridSearchCV\n",
    "from sklearn.metrics import accuracy_score\n",
    "start = time.time()\n",
    "parameters = {'model__n_estimators':[5,10,50,100,500]}\n",
    "clf=GridSearchCV(ada_pipe,parameters,scoring='roc_auc',cv=7,n_jobs = -1)\n",
    "clf.fit(X_train, y_train)\n",
    "print(clf.best_params_)\n",
    "predicted=clf.predict(X_val)\n",
    "proba = clf.predict_proba(X_val)\n",
    "print('Train Accuracy of the model after hyperparameter tuning')\n",
    "print(round(accuracy_score(y_train, clf.predict(X_train)),4))\n",
    "print('Test Accuracy of the model after hyperparameter tuning')\n",
    "print(round(accuracy_score(y_val, predicted),4))\n",
    "print('AUC Score of the Train data is:')\n",
    "print(round(roc_auc_score(y_train, clf.predict_proba(X_train)[:,1]),4))\n",
    "print('AUC Score of the Test data is:')\n",
    "print(round(roc_auc_score(y_val, proba[:, 1]),4))\n",
    "false_positive_rate_ada_hyper, true_positive_rate_ada_hyper, threshold1_ada_hyper = roc_curve(temp, proba[:, 1])\n",
    "end = time.time()\n",
    "print('Execution time is:')\n",
    "print(end - start)"
   ]
  },
  {
   "cell_type": "code",
   "execution_count": 97,
   "id": "cd75e4a1",
   "metadata": {
    "scrolled": true
   },
   "outputs": [
    {
     "data": {
      "image/png": "[encoded data removed]",
      "text/plain": [
       "<Figure size 432x288 with 2 Axes>"
      ]
     },
     "metadata": {
      "needs_background": "light"
     },
     "output_type": "display_data"
    }
   ],
   "source": [
    "ax = sns.heatmap(confusion_matrix(y_val, val_preds), annot=True, cmap='Blues')\n",
    "\n",
    "ax.set_title('Seaborn Confusion Matrix with labels\\n\\n');\n",
    "ax.set_xlabel('\\nPredicted Values')\n",
    "ax.set_ylabel('Actual Values ');\n",
    "\n",
    "## Ticket labels - List must be in alphabetical order\n",
    "ax.xaxis.set_ticklabels(['False','True'])\n",
    "ax.yaxis.set_ticklabels(['False','True'])\n",
    "\n",
    "## Display the visualization of the Confusion Matrix.\n",
    "plt.show()"
   ]
  },
  {
   "cell_type": "code",
   "execution_count": 98,
   "id": "45159a3b",
   "metadata": {},
   "outputs": [
    {
     "data": {
      "image/png": "[encoded data removed]",
      "text/plain": [
       "<Figure size 432x288 with 2 Axes>"
      ]
     },
     "metadata": {
      "needs_background": "light"
     },
     "output_type": "display_data"
    }
   ],
   "source": [
    "ax = sns.heatmap(confusion_matrix(y_val, clf.predict(X_val)), annot=True, cmap='Blues')\n",
    "\n",
    "ax.set_title('Seaborn Confusion Matrix with labels\\n\\n');\n",
    "ax.set_xlabel('\\nPredicted Values')\n",
    "ax.set_ylabel('Actual Values ');\n",
    "\n",
    "## Ticke`t labels - List must be in alphabetical order\n",
    "ax.xaxis.set_ticklabels(['False','True'])\n",
    "ax.yaxis.set_ticklabels(['False','True'])\n",
    "\n",
    "## Display the visualization of the Confusion Matrix.\n",
    "plt.show()"
   ]
  },
  {
   "cell_type": "markdown",
   "id": "0b465b7e",
   "metadata": {},
   "source": [
    "### Support Vector Machines"
   ]
  },
  {
   "cell_type": "code",
   "execution_count": 99,
   "id": "c8df323c",
   "metadata": {},
   "outputs": [],
   "source": [
    "from sklearn.svm import SVC\n",
    "svm_clf = SVC(probability=True)\n",
    "svm_pipe = Pipeline(steps = [('preprocessing',preprocessing),('model',svm_clf)])"
   ]
  },
  {
   "cell_type": "code",
   "execution_count": 100,
   "id": "caaefe4b",
   "metadata": {},
   "outputs": [
    {
     "data": {
      "text/plain": [
       "Pipeline(steps=[('preprocessing',\n",
       "                 ColumnTransformer(transformers=[('num',\n",
       "                                                  Pipeline(steps=[('num_imputer',\n",
       "                                                                   SimpleImputer(strategy='median')),\n",
       "                                                                  ('scaler',\n",
       "                                                                   MinMaxScaler())]),\n",
       "                                                  <sklearn.compose._column_transformer.make_column_selector object at 0x7f90f1022970>),\n",
       "                                                 ('cat',\n",
       "                                                  Pipeline(steps=[('cat_imputer',\n",
       "                                                                   SimpleImputer(strategy='most_frequent')),\n",
       "                                                                  ('encoder',\n",
       "                                                                   OneHotEncoder(drop='first'))]),\n",
       "                                                  <sklearn.compose._column_transformer.make_column_selector object at 0x7f90f1022d90>)])),\n",
       "                ('model', SVC(probability=True))])"
      ]
     },
     "execution_count": 100,
     "metadata": {},
     "output_type": "execute_result"
    }
   ],
   "source": [
    "svm_pipe.fit(X_train,y_train)"
   ]
  },
  {
   "cell_type": "code",
   "execution_count": 101,
   "id": "5f4f8b6a",
   "metadata": {},
   "outputs": [
    {
     "name": "stdout",
     "output_type": "stream",
     "text": [
      "Training & Validation ROC AUC Scores:\n",
      " ----------------------------------------\n",
      "Training   roc auc score= 0.9587\n",
      "Validation roc auc score= 0.8324\n",
      "\n",
      "Training & Validation Confusion Metrices:\n",
      "Training   confusion matrix:\n",
      " [[863   0]\n",
      " [115  51]]\n",
      "Validation confusion matrix:\n",
      " [[370   0]\n",
      " [ 65   6]]\n",
      "Training Accuracy of the model:\n",
      " 0.8882\n",
      "Testing Accuracy of the model:\n",
      " 0.8526\n"
     ]
    }
   ],
   "source": [
    "from sklearn.metrics import roc_auc_score,confusion_matrix,accuracy_score\n",
    "train_preds = svm_pipe.predict(X_train)\n",
    "val_preds = svm_pipe.predict(X_val)\n",
    "\n",
    "train_preds_proba = svm_pipe.predict_proba(X_train)\n",
    "val_preds_proba = svm_pipe.predict_proba(X_val)\n",
    "\n",
    "print('Training & Validation ROC AUC Scores:\\n', '-'*40)\n",
    "print('Training   roc auc score= {:.4f}'.format(roc_auc_score(y_train, train_preds_proba[:, 1])))\n",
    "print('Validation roc auc score= {:.4f}'.format(roc_auc_score(y_val, val_preds_proba[:, 1])))\n",
    "print('')\n",
    "print('Training & Validation Confusion Metrices:')\n",
    "print('Training   confusion matrix:\\n', confusion_matrix(y_train, train_preds))\n",
    "print('Validation confusion matrix:\\n', confusion_matrix(y_val, val_preds))\n",
    "print('Training Accuracy of the model:\\n',round(accuracy_score(y_train,train_preds),4))\n",
    "print('Testing Accuracy of the model:\\n',round(accuracy_score(y_val,val_preds),4))\n",
    "false_positive_rate_svm, true_positive_rate_svm, threshold1_svm = roc_curve(temp, val_preds_proba[:,1])"
   ]
  },
  {
   "cell_type": "markdown",
   "id": "09a5da33",
   "metadata": {},
   "source": [
    "### Hyperparameter tuning for Support Vector Machines "
   ]
  },
  {
   "cell_type": "code",
   "execution_count": 102,
   "id": "763d1cb1",
   "metadata": {
    "scrolled": true
   },
   "outputs": [
    {
     "name": "stdout",
     "output_type": "stream",
     "text": [
      "{'model__C': 100, 'model__gamma': 0.01}\n",
      "Train Accuracy of the model after hyperparameter tuning\n",
      "0.9155\n",
      "Test Accuracy of the model after hyperparameter tuning\n",
      "0.8912\n",
      "AUC Score of the Train data is:\n",
      "0.91\n",
      "AUC Score of the Test data is:\n",
      "0.8509\n",
      "Execution time is:\n",
      "2.6482319831848145\n"
     ]
    }
   ],
   "source": [
    "import warnings\n",
    "warnings.filterwarnings('ignore')\n",
    "import time\n",
    "from sklearn.model_selection import GridSearchCV\n",
    "from sklearn.metrics import accuracy_score\n",
    "start = time.time()\n",
    "parameters = {'model__C':[0.1, 1, 10, 100, 1000],'model__gamma':[1, 0.1, 0.01, 0.001, 0.0001]}\n",
    "clf=GridSearchCV(svm_pipe,parameters,scoring='roc_auc',cv=3,n_jobs = -1)\n",
    "clf.fit(X_train, y_train)\n",
    "print(clf.best_params_)\n",
    "predicted=clf.predict(X_val)\n",
    "proba = clf.predict_proba(X_val)\n",
    "print('Train Accuracy of the model after hyperparameter tuning')\n",
    "print(round(accuracy_score(y_train, clf.predict(X_train)),4))\n",
    "print('Test Accuracy of the model after hyperparameter tuning')\n",
    "print(round(accuracy_score(y_val, predicted),4))\n",
    "print('AUC Score of the Train data is:')\n",
    "print(round(roc_auc_score(y_train, clf.predict_proba(X_train)[:,1]),4))\n",
    "print('AUC Score of the Test data is:')\n",
    "print(round(roc_auc_score(y_val, proba[:, 1]),4))\n",
    "false_positive_rate_svm_hyper, true_positive_rate_svm_hyper, threshold1_svm_hyper = roc_curve(temp, proba[:, 1])\n",
    "end = time.time()\n",
    "print('Execution time is:')\n",
    "print(end - start)"
   ]
  },
  {
   "cell_type": "code",
   "execution_count": 103,
   "id": "dc6f40c5",
   "metadata": {
    "scrolled": true
   },
   "outputs": [
    {
     "data": {
      "image/png": "[encoded data removed]",
      "text/plain": [
       "<Figure size 432x288 with 2 Axes>"
      ]
     },
     "metadata": {
      "needs_background": "light"
     },
     "output_type": "display_data"
    }
   ],
   "source": [
    "ax = sns.heatmap(confusion_matrix(y_val, val_preds), annot=True, cmap='Blues')\n",
    "\n",
    "ax.set_title('Seaborn Confusion Matrix with labels\\n\\n');\n",
    "ax.set_xlabel('\\nPredicted Values')\n",
    "ax.set_ylabel('Actual Values ');\n",
    "\n",
    "## Ticket labels - List must be in alphabetical order\n",
    "ax.xaxis.set_ticklabels(['False','True'])\n",
    "ax.yaxis.set_ticklabels(['False','True'])\n",
    "\n",
    "## Display the visualization of the Confusion Matrix.\n",
    "plt.show()"
   ]
  },
  {
   "cell_type": "code",
   "execution_count": 104,
   "id": "007c4263",
   "metadata": {},
   "outputs": [
    {
     "data": {
      "image/png": "[encoded data removed]",
      "text/plain": [
       "<Figure size 432x288 with 2 Axes>"
      ]
     },
     "metadata": {
      "needs_background": "light"
     },
     "output_type": "display_data"
    }
   ],
   "source": [
    "ax = sns.heatmap(confusion_matrix(y_val, clf.predict(X_val)), annot=True, cmap='Blues')\n",
    "\n",
    "ax.set_title('Seaborn Confusion Matrix with labels\\n\\n');\n",
    "ax.set_xlabel('\\nPredicted Values')\n",
    "ax.set_ylabel('Actual Values ');\n",
    "\n",
    "## Ticke`t labels - List must be in alphabetical order\n",
    "ax.xaxis.set_ticklabels(['False','True'])\n",
    "ax.yaxis.set_ticklabels(['False','True'])\n",
    "\n",
    "## Display the visualization of the Confusion Matrix.\n",
    "plt.show()"
   ]
  },
  {
   "cell_type": "markdown",
   "id": "cdb6bf3f",
   "metadata": {},
   "source": [
    "### ROC Curves"
   ]
  },
  {
   "cell_type": "code",
   "execution_count": 105,
   "id": "0fee1eb9",
   "metadata": {},
   "outputs": [
    {
     "data": {
      "image/png": "[encoded data removed]",
      "text/plain": [
       "<Figure size 720x432 with 1 Axes>"
      ]
     },
     "metadata": {
      "needs_background": "light"
     },
     "output_type": "display_data"
    }
   ],
   "source": [
    "plt.figure(figsize=(10, 6))\n",
    "plt.plot(false_positive_rate_dec, true_positive_rate_dec,Label = 'Decision Trees')\n",
    "plt.plot(false_positive_rate_dec_hyper, true_positive_rate_dec_hyper,Label = 'Decision Trees :hyper parameter tuned')\n",
    "plt.plot(false_positive_rate_knn, true_positive_rate_knn,Label = 'KNN')\n",
    "plt.plot(false_positive_rate_knn_hyper, true_positive_rate_knn_hyper,Label = 'KNN :hyper parameter tuned')\n",
    "plt.plot(false_positive_rate_random, true_positive_rate_random,Label = 'Random Forest')\n",
    "plt.plot(false_positive_rate_random_hyper, true_positive_rate_random_hyper,Label = 'Random Forest:hyper parameter tuned')\n",
    "plt.plot(false_positive_rate_ada, true_positive_rate_ada,Label = 'AdaBoost')\n",
    "plt.plot(false_positive_rate_ada_hyper, true_positive_rate_ada_hyper,Label = 'AdaBoost:hyper parameter tuned')\n",
    "plt.plot(false_positive_rate_svm, true_positive_rate_svm,Label = 'SVM')\n",
    "plt.plot(false_positive_rate_svm_hyper, true_positive_rate_svm_hyper,Label = 'SVM:hyper parameter tuned')\n",
    "plt.title('ROC Curves')\n",
    "plt.legend()\n",
    "plt.show()"
   ]
  },
  {
   "cell_type": "code",
   "execution_count": null,
   "id": "5441169f",
   "metadata": {},
   "outputs": [],
   "source": []
  }
 ],
 "metadata": {
  "kernelspec": {
   "display_name": "Python 3",
   "language": "python",
   "name": "python3"
  },
  "language_info": {
   "codemirror_mode": {
    "name": "ipython",
    "version": 3
   },
   "file_extension": ".py",
   "mimetype": "text/x-python",
   "name": "python",
   "nbconvert_exporter": "python",
   "pygments_lexer": "ipython3",
   "version": "3.8.8"
  }
 },
 "nbformat": 4,
 "nbformat_minor": 5
}
